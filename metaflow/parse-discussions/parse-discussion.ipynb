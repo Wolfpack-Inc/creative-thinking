{
 "cells": [
  {
   "cell_type": "code",
   "execution_count": 17,
   "metadata": {},
   "outputs": [],
   "source": [
    "from metaflow import Flow, Metaflow, Step"
   ]
  },
  {
   "cell_type": "code",
   "execution_count": 4,
   "metadata": {},
   "outputs": [],
   "source": [
    "run = Flow('DiscussionFlow').latest_successful_run"
   ]
  },
  {
   "cell_type": "code",
   "execution_count": 34,
   "metadata": {},
   "outputs": [
    {
     "data": {
      "text/html": [
       "<div>\n",
       "<style scoped>\n",
       "    .dataframe tbody tr th:only-of-type {\n",
       "        vertical-align: middle;\n",
       "    }\n",
       "\n",
       "    .dataframe tbody tr th {\n",
       "        vertical-align: top;\n",
       "    }\n",
       "\n",
       "    .dataframe thead th {\n",
       "        text-align: right;\n",
       "    }\n",
       "</style>\n",
       "<table border=\"1\" class=\"dataframe\">\n",
       "  <thead>\n",
       "    <tr style=\"text-align: right;\">\n",
       "      <th></th>\n",
       "      <th>discussion_subentries</th>\n",
       "    </tr>\n",
       "  </thead>\n",
       "  <tbody>\n",
       "    <tr>\n",
       "      <th>0</th>\n",
       "      <td>MusicFX uses the preferences of music from the...</td>\n",
       "    </tr>\n",
       "    <tr>\n",
       "      <th>1</th>\n",
       "      <td>MusicFX gives each member a certain degree of ...</td>\n",
       "    </tr>\n",
       "    <tr>\n",
       "      <th>2</th>\n",
       "      <td>How to improve performance of MusicFX ?\\nWould...</td>\n",
       "    </tr>\n",
       "    <tr>\n",
       "      <th>3</th>\n",
       "      <td>The authors state that the music choice in the...</td>\n",
       "    </tr>\n",
       "    <tr>\n",
       "      <th>4</th>\n",
       "      <td>Possible Discussion Topic:\\nMight a group reco...</td>\n",
       "    </tr>\n",
       "  </tbody>\n",
       "</table>\n",
       "</div>"
      ],
      "text/plain": [
       "                               discussion_subentries\n",
       "0  MusicFX uses the preferences of music from the...\n",
       "1  MusicFX gives each member a certain degree of ...\n",
       "2  How to improve performance of MusicFX ?\\nWould...\n",
       "3  The authors state that the music choice in the...\n",
       "4  Possible Discussion Topic:\\nMight a group reco..."
      ]
     },
     "execution_count": 34,
     "metadata": {},
     "output_type": "execute_result"
    }
   ],
   "source": [
    "df = run['start'].task.data.discussions\n",
    "df.head()"
   ]
  },
  {
   "cell_type": "code",
   "execution_count": 35,
   "metadata": {},
   "outputs": [
    {
     "data": {
      "text/plain": [
       "'MusicFX uses the preferences of music from the gym members. However, people who are exercising tend to listen to a different kind of music than when they are not exercising.\\nHence, does the preference system MusicFX created perform on an optimal level?\\n\\xa0\\n  \\n    Edited by Kaspar Raijmann on 5 Feb at 11:34'"
      ]
     },
     "execution_count": 35,
     "metadata": {},
     "output_type": "execute_result"
    }
   ],
   "source": [
    "df.iloc[0,0]"
   ]
  },
  {
   "cell_type": "code",
   "execution_count": 36,
   "metadata": {},
   "outputs": [
    {
     "data": {
      "text/html": [
       "<div>\n",
       "<style scoped>\n",
       "    .dataframe tbody tr th:only-of-type {\n",
       "        vertical-align: middle;\n",
       "    }\n",
       "\n",
       "    .dataframe tbody tr th {\n",
       "        vertical-align: top;\n",
       "    }\n",
       "\n",
       "    .dataframe thead th {\n",
       "        text-align: right;\n",
       "    }\n",
       "</style>\n",
       "<table border=\"1\" class=\"dataframe\">\n",
       "  <thead>\n",
       "    <tr style=\"text-align: right;\">\n",
       "      <th></th>\n",
       "      <th>discussion</th>\n",
       "    </tr>\n",
       "  </thead>\n",
       "  <tbody>\n",
       "    <tr>\n",
       "      <th>0</th>\n",
       "      <td>MusicFX uses the preferences of music from the...</td>\n",
       "    </tr>\n",
       "    <tr>\n",
       "      <th>1</th>\n",
       "      <td>MusicFX gives each member a certain degree of ...</td>\n",
       "    </tr>\n",
       "    <tr>\n",
       "      <th>2</th>\n",
       "      <td>How to improve performance of MusicFX ? Would ...</td>\n",
       "    </tr>\n",
       "    <tr>\n",
       "      <th>3</th>\n",
       "      <td>The authors state that the music choice in the...</td>\n",
       "    </tr>\n",
       "    <tr>\n",
       "      <th>4</th>\n",
       "      <td>Possible Discussion Topic: Might a group recom...</td>\n",
       "    </tr>\n",
       "  </tbody>\n",
       "</table>\n",
       "</div>"
      ],
      "text/plain": [
       "                                          discussion\n",
       "0  MusicFX uses the preferences of music from the...\n",
       "1  MusicFX gives each member a certain degree of ...\n",
       "2  How to improve performance of MusicFX ? Would ...\n",
       "3  The authors state that the music choice in the...\n",
       "4  Possible Discussion Topic: Might a group recom..."
      ]
     },
     "execution_count": 36,
     "metadata": {},
     "output_type": "execute_result"
    }
   ],
   "source": [
    "df = run['end'].task.data.discussions\n",
    "df.head()"
   ]
  },
  {
   "cell_type": "code",
   "execution_count": 37,
   "metadata": {},
   "outputs": [
    {
     "data": {
      "text/plain": [
       "'MusicFX uses the preferences of music from the gym members. However, people who are exercising tend to listen to a different kind of music than when they are not exercising. Hence, does the preference system MusicFX created perform on an optimal level?'"
      ]
     },
     "execution_count": 37,
     "metadata": {},
     "output_type": "execute_result"
    }
   ],
   "source": [
    "df.iloc[0,0]"
   ]
  },
  {
   "cell_type": "code",
   "execution_count": 44,
   "metadata": {},
   "outputs": [
    {
     "name": "stdout",
     "output_type": "stream",
     "text": [
      "Parsed 34 discussions\n",
      "\n"
     ]
    }
   ],
   "source": [
    "print(run['end'].task.stdout)"
   ]
  },
  {
   "cell_type": "code",
   "execution_count": 5,
   "metadata": {},
   "outputs": [
    {
     "data": {
      "text/html": [
       "<div>\n",
       "<style scoped>\n",
       "    .dataframe tbody tr th:only-of-type {\n",
       "        vertical-align: middle;\n",
       "    }\n",
       "\n",
       "    .dataframe tbody tr th {\n",
       "        vertical-align: top;\n",
       "    }\n",
       "\n",
       "    .dataframe thead th {\n",
       "        text-align: right;\n",
       "    }\n",
       "</style>\n",
       "<table border=\"1\" class=\"dataframe\">\n",
       "  <thead>\n",
       "    <tr style=\"text-align: right;\">\n",
       "      <th></th>\n",
       "      <th>discussion</th>\n",
       "    </tr>\n",
       "  </thead>\n",
       "  <tbody>\n",
       "    <tr>\n",
       "      <th>0</th>\n",
       "      <td>MusicFX uses the preferences of music from the...</td>\n",
       "    </tr>\n",
       "    <tr>\n",
       "      <th>1</th>\n",
       "      <td>MusicFX gives each member a certain degree of ...</td>\n",
       "    </tr>\n",
       "    <tr>\n",
       "      <th>2</th>\n",
       "      <td>How to improve performance of MusicFX ? Would ...</td>\n",
       "    </tr>\n",
       "    <tr>\n",
       "      <th>3</th>\n",
       "      <td>The authors state that the music choice in the...</td>\n",
       "    </tr>\n",
       "    <tr>\n",
       "      <th>4</th>\n",
       "      <td>Possible Discussion Topic: Might a group recom...</td>\n",
       "    </tr>\n",
       "    <tr>\n",
       "      <th>5</th>\n",
       "      <td>The current group preference music recommendat...</td>\n",
       "    </tr>\n",
       "    <tr>\n",
       "      <th>6</th>\n",
       "      <td>The MusicFX paper (1998) mentions a music reco...</td>\n",
       "    </tr>\n",
       "    <tr>\n",
       "      <th>7</th>\n",
       "      <td>McCarthy, J. F., &amp; Anagnost, T. D. (1998, Nove...</td>\n",
       "    </tr>\n",
       "    <tr>\n",
       "      <th>8</th>\n",
       "      <td>The music system seems to be an improvement ov...</td>\n",
       "    </tr>\n",
       "    <tr>\n",
       "      <th>9</th>\n",
       "      <td>If the people don't update their preferences, ...</td>\n",
       "    </tr>\n",
       "    <tr>\n",
       "      <th>10</th>\n",
       "      <td>As stated in the paper, the music is played th...</td>\n",
       "    </tr>\n",
       "    <tr>\n",
       "      <th>11</th>\n",
       "      <td>The paper discusses the effectiveness of the M...</td>\n",
       "    </tr>\n",
       "    <tr>\n",
       "      <th>12</th>\n",
       "      <td>The survey in the paper by McCarthy, J. F., &amp; ...</td>\n",
       "    </tr>\n",
       "    <tr>\n",
       "      <th>13</th>\n",
       "      <td>Inference requires better study of human facto...</td>\n",
       "    </tr>\n",
       "    <tr>\n",
       "      <th>14</th>\n",
       "      <td>The music preference is measured for only fitn...</td>\n",
       "    </tr>\n",
       "    <tr>\n",
       "      <th>15</th>\n",
       "      <td>The paper states that \"The vast majority of fi...</td>\n",
       "    </tr>\n",
       "    <tr>\n",
       "      <th>16</th>\n",
       "      <td>It is hard to generalise someones taste in mus...</td>\n",
       "    </tr>\n",
       "    <tr>\n",
       "      <th>17</th>\n",
       "      <td>In the first paper, they discussed the group r...</td>\n",
       "    </tr>\n",
       "    <tr>\n",
       "      <th>18</th>\n",
       "      <td>As mentioned in the paper, some shy people do ...</td>\n",
       "    </tr>\n",
       "    <tr>\n",
       "      <th>19</th>\n",
       "      <td>Discussion topic I wonder to what extent this ...</td>\n",
       "    </tr>\n",
       "    <tr>\n",
       "      <th>20</th>\n",
       "      <td>MusicFX in the form tested in the paper seems ...</td>\n",
       "    </tr>\n",
       "    <tr>\n",
       "      <th>21</th>\n",
       "      <td>Discussion point:   People submit their prefer...</td>\n",
       "    </tr>\n",
       "    <tr>\n",
       "      <th>22</th>\n",
       "      <td>The system proposed in this paper implies a gr...</td>\n",
       "    </tr>\n",
       "    <tr>\n",
       "      <th>23</th>\n",
       "      <td>The first paper introduces a group recommender...</td>\n",
       "    </tr>\n",
       "    <tr>\n",
       "      <th>24</th>\n",
       "      <td>McCarthy and Anagnost in the paper propose to ...</td>\n",
       "    </tr>\n",
       "    <tr>\n",
       "      <th>25</th>\n",
       "      <td>Something is interesting in the distribution o...</td>\n",
       "    </tr>\n",
       "    <tr>\n",
       "      <th>26</th>\n",
       "      <td>- Normalization could be used for the user rat...</td>\n",
       "    </tr>\n",
       "    <tr>\n",
       "      <th>27</th>\n",
       "      <td>Discussion topic: The researchers conducted a ...</td>\n",
       "    </tr>\n",
       "    <tr>\n",
       "      <th>28</th>\n",
       "      <td>The paper states that it evaluated the results...</td>\n",
       "    </tr>\n",
       "    <tr>\n",
       "      <th>29</th>\n",
       "      <td>Discussion topic:   MusicFX  chooses which mus...</td>\n",
       "    </tr>\n",
       "    <tr>\n",
       "      <th>30</th>\n",
       "      <td>Evaluation metrics used: Is the poll an effect...</td>\n",
       "    </tr>\n",
       "    <tr>\n",
       "      <th>31</th>\n",
       "      <td>MUSICFX, a group preference arbitration system...</td>\n",
       "    </tr>\n",
       "    <tr>\n",
       "      <th>32</th>\n",
       "      <td>In the paper it says they are using the prefer...</td>\n",
       "    </tr>\n",
       "    <tr>\n",
       "      <th>33</th>\n",
       "      <td>The music preference is measured for only fitn...</td>\n",
       "    </tr>\n",
       "  </tbody>\n",
       "</table>\n",
       "</div>"
      ],
      "text/plain": [
       "                                           discussion\n",
       "0   MusicFX uses the preferences of music from the...\n",
       "1   MusicFX gives each member a certain degree of ...\n",
       "2   How to improve performance of MusicFX ? Would ...\n",
       "3   The authors state that the music choice in the...\n",
       "4   Possible Discussion Topic: Might a group recom...\n",
       "5   The current group preference music recommendat...\n",
       "6   The MusicFX paper (1998) mentions a music reco...\n",
       "7   McCarthy, J. F., & Anagnost, T. D. (1998, Nove...\n",
       "8   The music system seems to be an improvement ov...\n",
       "9   If the people don't update their preferences, ...\n",
       "10  As stated in the paper, the music is played th...\n",
       "11  The paper discusses the effectiveness of the M...\n",
       "12  The survey in the paper by McCarthy, J. F., & ...\n",
       "13  Inference requires better study of human facto...\n",
       "14  The music preference is measured for only fitn...\n",
       "15  The paper states that \"The vast majority of fi...\n",
       "16  It is hard to generalise someones taste in mus...\n",
       "17  In the first paper, they discussed the group r...\n",
       "18  As mentioned in the paper, some shy people do ...\n",
       "19  Discussion topic I wonder to what extent this ...\n",
       "20  MusicFX in the form tested in the paper seems ...\n",
       "21  Discussion point:   People submit their prefer...\n",
       "22  The system proposed in this paper implies a gr...\n",
       "23  The first paper introduces a group recommender...\n",
       "24  McCarthy and Anagnost in the paper propose to ...\n",
       "25  Something is interesting in the distribution o...\n",
       "26  - Normalization could be used for the user rat...\n",
       "27  Discussion topic: The researchers conducted a ...\n",
       "28  The paper states that it evaluated the results...\n",
       "29  Discussion topic:   MusicFX  chooses which mus...\n",
       "30  Evaluation metrics used: Is the poll an effect...\n",
       "31  MUSICFX, a group preference arbitration system...\n",
       "32  In the paper it says they are using the prefer...\n",
       "33  The music preference is measured for only fitn..."
      ]
     },
     "execution_count": 5,
     "metadata": {},
     "output_type": "execute_result"
    }
   ],
   "source": [
    "run.data.discussions"
   ]
  }
 ],
 "metadata": {
  "kernelspec": {
   "display_name": "Python 3",
   "language": "python",
   "name": "python3"
  },
  "language_info": {
   "codemirror_mode": {
    "name": "ipython",
    "version": 3
   },
   "file_extension": ".py",
   "mimetype": "text/x-python",
   "name": "python",
   "nbconvert_exporter": "python",
   "pygments_lexer": "ipython3",
   "version": "3.7.3"
  }
 },
 "nbformat": 4,
 "nbformat_minor": 2
}
